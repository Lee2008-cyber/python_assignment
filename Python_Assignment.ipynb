{
  "nbformat": 4,
  "nbformat_minor": 0,
  "metadata": {
    "colab": {
      "provenance": [],
      "authorship_tag": "ABX9TyO9UqkZOAR7Q8vOpi52u2Bd",
      "include_colab_link": true
    },
    "kernelspec": {
      "name": "python3",
      "display_name": "Python 3"
    },
    "language_info": {
      "name": "python"
    }
  },
  "cells": [
    {
      "cell_type": "markdown",
      "metadata": {
        "id": "view-in-github",
        "colab_type": "text"
      },
      "source": [
        "<a href=\"https://colab.research.google.com/github/Lee2008-cyber/python_assignment/blob/main/Python_Assignment.ipynb\" target=\"_parent\"><img src=\"https://colab.research.google.com/assets/colab-badge.svg\" alt=\"Open In Colab\"/></a>"
      ]
    },
    {
      "cell_type": "markdown",
      "source": [
        "# **Python Assignment**"
      ],
      "metadata": {
        "id": "KLAWV8NfAYHd"
      }
    },
    {
      "cell_type": "markdown",
      "source": [
        "**Q1. L is a list defined as L=[11,12,13,14]**\n",
        "\n",
        "1.    WAP to add 50 and 60 to L.\n",
        "\n",
        "\n",
        "\n",
        "      \n",
        "\n",
        "\n"
      ],
      "metadata": {
        "id": "INbk27ldAlik"
      }
    },
    {
      "cell_type": "code",
      "execution_count": 2,
      "metadata": {
        "colab": {
          "base_uri": "https://localhost:8080/"
        },
        "id": "_CPfXwwSAF8S",
        "outputId": "ebf838c0-5190-4b7b-b63e-51b6421c9e78"
      },
      "outputs": [
        {
          "output_type": "stream",
          "name": "stdout",
          "text": [
            "Original List: [11, 12, 13, 14]\n",
            "List After Adding: [11, 12, 13, 14, 50, 60]\n"
          ]
        }
      ],
      "source": [
        "L = [11,12,13,14 ]\n",
        "print (\"Original List:\", L)\n",
        "\n",
        "L.append(50)\n",
        "L.append(60)\n",
        "\n",
        "print (\"List After Adding:\", L)"
      ]
    },
    {
      "cell_type": "markdown",
      "source": [
        "\n",
        "2.   WAP to remove 11 and 13 from L.\n",
        "\n"
      ],
      "metadata": {
        "id": "yeC__H4ADWCq"
      }
    },
    {
      "cell_type": "code",
      "source": [
        "  L=[11,12,13,14,50,60]\n",
        "\n",
        "  print(\"Original List:\",L)\n",
        "\n",
        "  del L[0]\n",
        "  del L[1]\n",
        "\n",
        "  print(\"List After Deleting:\",L)"
      ],
      "metadata": {
        "colab": {
          "base_uri": "https://localhost:8080/"
        },
        "id": "pdKUxhtlEESC",
        "outputId": "e85a2ec8-7b8d-4aff-b92d-f0b870182504"
      },
      "execution_count": 6,
      "outputs": [
        {
          "output_type": "stream",
          "name": "stdout",
          "text": [
            "Original List: [11, 12, 13, 14, 50, 60]\n",
            "List After Deleting: [12, 14, 50, 60]\n"
          ]
        }
      ]
    },
    {
      "cell_type": "markdown",
      "source": [
        "3.   WAP to sort L in ascending order.\n",
        "\n"
      ],
      "metadata": {
        "id": "XB7Zsh8jFH_A"
      }
    },
    {
      "cell_type": "code",
      "source": [
        "  L=[60,11,13,50,12,14]\n",
        "\n",
        "  print(\"Original List:\",L)\n",
        "  L.sort()\n",
        "  print(\"List In Ascending Order:\",L)"
      ],
      "metadata": {
        "colab": {
          "base_uri": "https://localhost:8080/"
        },
        "id": "5vcly4UiEEV4",
        "outputId": "138c438e-dd25-4161-e673-9ecddda5436a"
      },
      "execution_count": 11,
      "outputs": [
        {
          "output_type": "stream",
          "name": "stdout",
          "text": [
            "Original List: [60, 11, 13, 50, 12, 14]\n",
            "List In Ascending Order: [11, 12, 13, 14, 50, 60]\n"
          ]
        }
      ]
    },
    {
      "cell_type": "markdown",
      "source": [
        "4.   WAP to sort L in descending order.\n",
        "\n"
      ],
      "metadata": {
        "id": "UFi0mahEGRn4"
      }
    },
    {
      "cell_type": "code",
      "source": [
        "  L=[60,11,13,50,12,14]\n",
        "\n",
        "  print(\"Original List:\",L)\n",
        "  L.sort(reverse=True)\n",
        "  print(\"List In Descending Order:\",L)"
      ],
      "metadata": {
        "colab": {
          "base_uri": "https://localhost:8080/"
        },
        "id": "X3NEw8TPGf8c",
        "outputId": "c4329df0-f25d-40ff-fb1d-88364ab1e5b9"
      },
      "execution_count": 12,
      "outputs": [
        {
          "output_type": "stream",
          "name": "stdout",
          "text": [
            "Original List: [60, 11, 13, 50, 12, 14]\n",
            "List In Descending Order: [60, 50, 14, 13, 12, 11]\n"
          ]
        }
      ]
    },
    {
      "cell_type": "markdown",
      "source": [
        "5.   WAP to search for 13 in L.\n",
        "\n",
        "\n"
      ],
      "metadata": {
        "id": "2KYuNyHkHPUt"
      }
    },
    {
      "cell_type": "code",
      "source": [
        "    L=[60,11,13,50,12,14]\n",
        "\n",
        "    n=int(input(\"Enter The Number to search:\"))\n",
        "    if n in L:\n",
        "      print(\"Number Found:\")\n",
        "    else:\n",
        "      print(\"Number Not Found:\")\n",
        "\n",
        ""
      ],
      "metadata": {
        "colab": {
          "base_uri": "https://localhost:8080/"
        },
        "id": "ynhLB3spIGvm",
        "outputId": "62a7da35-36e9-40e1-b866-2ee90553d4fb"
      },
      "execution_count": 37,
      "outputs": [
        {
          "output_type": "stream",
          "name": "stdout",
          "text": [
            "Enter The Number to search:5\n",
            "Number Not Found:\n"
          ]
        }
      ]
    },
    {
      "cell_type": "markdown",
      "source": [
        "\n",
        "\n",
        "6.  WAP count Number of elements present in L.\n",
        "\n"
      ],
      "metadata": {
        "id": "GkVRgSIUJ0m_"
      }
    },
    {
      "cell_type": "code",
      "source": [
        "    L=[60,11,13,50,12,14]\n",
        "    print (\"Original List:\",L)\n",
        "    print (\"Number of elements in list: \", len(L))"
      ],
      "metadata": {
        "colab": {
          "base_uri": "https://localhost:8080/"
        },
        "id": "Rs6z8MRnKBcu",
        "outputId": "3317e221-9746-4e6a-832d-6da04a8154aa"
      },
      "execution_count": 16,
      "outputs": [
        {
          "output_type": "stream",
          "name": "stdout",
          "text": [
            "Original List:  [60, 11, 13, 50, 12, 14]\n",
            "Number of elements in list:  6\n"
          ]
        }
      ]
    },
    {
      "cell_type": "markdown",
      "source": [
        "\n",
        "\n",
        "7. WAP to sum all elements in L.\n",
        "\n"
      ],
      "metadata": {
        "id": "c8CX14JkKZAc"
      }
    },
    {
      "cell_type": "code",
      "source": [
        "    L=[60,11,13,50,12,14]\n",
        "    print (\"Original List:\",L)\n",
        "    print (\"Sum of all Elements:\",sum(L))"
      ],
      "metadata": {
        "colab": {
          "base_uri": "https://localhost:8080/"
        },
        "id": "J6Ip1i4eK54M",
        "outputId": "381b6682-d6b4-4198-913d-766a3b1339c1"
      },
      "execution_count": 17,
      "outputs": [
        {
          "output_type": "stream",
          "name": "stdout",
          "text": [
            "Original List: [60, 11, 13, 50, 12, 14]\n",
            "Sum of all Elements: 160\n"
          ]
        }
      ]
    },
    {
      "cell_type": "markdown",
      "source": [
        "\n",
        "\n",
        "8. WAP to sum all odd number in L.\n",
        "\n"
      ],
      "metadata": {
        "id": "BRdt4NhyKngU"
      }
    },
    {
      "cell_type": "code",
      "source": [
        "    L=[60,11,13,50,12,14]\n",
        "    def Odd_Number(L):\n",
        "      for i in L:\n",
        "        if i%2!=0:\n",
        "          print(i)\n",
        "          return 0\n",
        "        else:\n",
        "          return 2\n",
        "\n",
        "\n",
        "    print(\"Odd Numbers In List:\",Odd_Number(L))\n",
        "    odd_sum=0\n",
        "    for i in L:\n",
        "       if i%2!=0:\n",
        "          odd_sum+=i\n",
        "    print(\"sum of all odd numbers \",odd_sum)\n",
        "\n"
      ],
      "metadata": {
        "colab": {
          "base_uri": "https://localhost:8080/"
        },
        "id": "sALEynRJMiSv",
        "outputId": "85adfc8f-b1f6-4118-c4da-a3a019d010ef"
      },
      "execution_count": 45,
      "outputs": [
        {
          "output_type": "stream",
          "name": "stdout",
          "text": [
            "Odd Numbers In List: 2\n",
            "sum of all odd numbers  24\n"
          ]
        }
      ]
    },
    {
      "cell_type": "markdown",
      "source": [
        "\n",
        "\n",
        "9.   WAP to sum all Even Numbers in L.\n",
        "\n"
      ],
      "metadata": {
        "id": "U_a-VoKlQfdr"
      }
    },
    {
      "cell_type": "code",
      "source": [
        "    L=[60,11,13,50,12,14]\n",
        "    def Even_Number(L):\n",
        "      for i in L:\n",
        "        if i%2==0:\n",
        "          print(i)\n",
        "    print(\"Even Numbers In List:\",Even_Number(L))\n",
        "    Even_sum=0\n",
        "    for i in L:\n",
        "       if i%2==0:\n",
        "          Even_sum+=i\n",
        "    print(\"sum of all Even numbers \",Even_sum)"
      ],
      "metadata": {
        "colab": {
          "base_uri": "https://localhost:8080/"
        },
        "id": "3fHGWLRhQ0y8",
        "outputId": "0c7aac93-f054-43be-eb6e-3299fca51799"
      },
      "execution_count": 30,
      "outputs": [
        {
          "output_type": "stream",
          "name": "stdout",
          "text": [
            "60\n",
            "50\n",
            "12\n",
            "14\n",
            "Even Numbers In List: None\n",
            "sum of all Even numbers  136\n"
          ]
        }
      ]
    },
    {
      "cell_type": "markdown",
      "source": [
        "\n",
        "\n",
        "10. WAP to sum all Prime Number in L.\n",
        "\n"
      ],
      "metadata": {
        "id": "hFq_r0I3RZZn"
      }
    },
    {
      "cell_type": "code",
      "source": [
        "    L=[60,11,13,50,12,14]\n",
        "    def Prime_Number(L):\n",
        "      for i in L:\n",
        "        if i%2!=0:\n",
        "          print(i)\n",
        "    print(\"Prime Numbers In List:\",Prime_Number(L))\n",
        "    Prime_sum=0\n",
        "    for i in L:\n",
        "       if i%2!=0:\n",
        "          Prime_sum+=i\n",
        "    print(\"sum of all Prime numbers \",Prime_sum)"
      ],
      "metadata": {
        "colab": {
          "base_uri": "https://localhost:8080/"
        },
        "id": "lQNRJvmrRnVO",
        "outputId": "5f96eed6-77cf-43a9-d436-47724ca408c0"
      },
      "execution_count": 31,
      "outputs": [
        {
          "output_type": "stream",
          "name": "stdout",
          "text": [
            "11\n",
            "13\n",
            "Prime Numbers In List: None\n",
            "sum of all Prime numbers  24\n"
          ]
        }
      ]
    },
    {
      "cell_type": "markdown",
      "source": [
        "\n",
        "\n",
        "11.  WAP to clear all elements in L.\n",
        "\n"
      ],
      "metadata": {
        "id": "4tOArLknSlBR"
      }
    },
    {
      "cell_type": "code",
      "source": [
        "      L=[60,11,13,50,12,14]\n",
        "      print (\"Original List:\",L)\n",
        "      L.clear()\n",
        "      print (\"List After Delete:\",L)"
      ],
      "metadata": {
        "colab": {
          "base_uri": "https://localhost:8080/"
        },
        "id": "fhc_WQBzSxAY",
        "outputId": "42d3ffe1-409a-4fbb-abda-25d6ec83e9ea"
      },
      "execution_count": 33,
      "outputs": [
        {
          "output_type": "stream",
          "name": "stdout",
          "text": [
            "Original List: [60, 11, 13, 50, 12, 14]\n",
            "List After Delete: []\n"
          ]
        }
      ]
    },
    {
      "cell_type": "markdown",
      "source": [
        "\n",
        "\n",
        "12.   WAP to delete L.\n",
        "\n"
      ],
      "metadata": {
        "id": "ZdZeV6bNTMTy"
      }
    },
    {
      "cell_type": "code",
      "source": [
        "      L=[60,11,13,50,12,14]\n",
        "      print (\"Original List:\",L)\n",
        "      del L\n",
        "      print (\"List After Delete:\",L)"
      ],
      "metadata": {
        "colab": {
          "base_uri": "https://localhost:8080/",
          "height": 193
        },
        "id": "e-VsuOH_TVdO",
        "outputId": "13d5c598-6851-4505-ec08-0615be74464c"
      },
      "execution_count": 34,
      "outputs": [
        {
          "output_type": "stream",
          "name": "stdout",
          "text": [
            "Original List: [60, 11, 13, 50, 12, 14]\n"
          ]
        },
        {
          "output_type": "error",
          "ename": "NameError",
          "evalue": "name 'L' is not defined",
          "traceback": [
            "\u001b[0;31m---------------------------------------------------------------------------\u001b[0m",
            "\u001b[0;31mNameError\u001b[0m                                 Traceback (most recent call last)",
            "\u001b[0;32m<ipython-input-34-764051710>\u001b[0m in \u001b[0;36m<cell line: 0>\u001b[0;34m()\u001b[0m\n\u001b[1;32m      2\u001b[0m \u001b[0mprint\u001b[0m \u001b[0;34m(\u001b[0m\u001b[0;34m\"Original List:\"\u001b[0m\u001b[0;34m,\u001b[0m\u001b[0mL\u001b[0m\u001b[0;34m)\u001b[0m\u001b[0;34m\u001b[0m\u001b[0;34m\u001b[0m\u001b[0m\n\u001b[1;32m      3\u001b[0m \u001b[0;32mdel\u001b[0m \u001b[0mL\u001b[0m\u001b[0;34m\u001b[0m\u001b[0;34m\u001b[0m\u001b[0m\n\u001b[0;32m----> 4\u001b[0;31m \u001b[0mprint\u001b[0m \u001b[0;34m(\u001b[0m\u001b[0;34m\"List After Delete:\"\u001b[0m\u001b[0;34m,\u001b[0m\u001b[0mL\u001b[0m\u001b[0;34m)\u001b[0m\u001b[0;34m\u001b[0m\u001b[0;34m\u001b[0m\u001b[0m\n\u001b[0m",
            "\u001b[0;31mNameError\u001b[0m: name 'L' is not defined"
          ]
        }
      ]
    },
    {
      "cell_type": "markdown",
      "source": [
        "**Q2 D is dictionary defined as D = {1:5.6, 2:7.**"
      ],
      "metadata": {
        "id": "b8sSD1nyT9nt"
      }
    }
  ]
}